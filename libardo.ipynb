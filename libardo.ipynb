{
 "cells": [
  {
   "cell_type": "code",
   "execution_count": 38,
   "metadata": {},
   "outputs": [],
   "source": [
    "# Importamos las librerias que vamos a utilizar\n",
    "import pandas as pd\n",
    "import numpy as np\n",
    "import seaborn as sns\n",
    "import matplotlib.pyplot as plt\n",
    "import warnings\n",
    "from datetime import datetime\n",
    "sns.set_theme()\n"
   ]
  },
  {
   "cell_type": "code",
   "execution_count": 3,
   "metadata": {},
   "outputs": [],
   "source": [
    "# Descargamos en archivo cvs a un dataframe\n",
    "Df_SonidosNyc = pd.read_csv(r'c:\\Users\\LIBARDO\\Libardo A\\Henry\\Archivos PF\\annotations.csv')"
   ]
  },
  {
   "cell_type": "code",
   "execution_count": 10,
   "metadata": {},
   "outputs": [
    {
     "data": {
      "text/html": [
       "<div>\n",
       "<style scoped>\n",
       "    .dataframe tbody tr th:only-of-type {\n",
       "        vertical-align: middle;\n",
       "    }\n",
       "\n",
       "    .dataframe tbody tr th {\n",
       "        vertical-align: top;\n",
       "    }\n",
       "\n",
       "    .dataframe thead th {\n",
       "        text-align: right;\n",
       "    }\n",
       "</style>\n",
       "<table border=\"1\" class=\"dataframe\">\n",
       "  <thead>\n",
       "    <tr style=\"text-align: right;\">\n",
       "      <th></th>\n",
       "      <th>split</th>\n",
       "      <th>sensor_id</th>\n",
       "      <th>audio_filename</th>\n",
       "      <th>annotator_id</th>\n",
       "      <th>borough</th>\n",
       "      <th>block</th>\n",
       "      <th>latitude</th>\n",
       "      <th>longitude</th>\n",
       "      <th>year</th>\n",
       "      <th>week</th>\n",
       "      <th>...</th>\n",
       "      <th>7-X_other-unknown-human-voice_proximity</th>\n",
       "      <th>8-1_dog-barking-whining_proximity</th>\n",
       "      <th>1_engine_presence</th>\n",
       "      <th>2_machinery-impact_presence</th>\n",
       "      <th>3_non-machinery-impact_presence</th>\n",
       "      <th>4_powered-saw_presence</th>\n",
       "      <th>5_alert-signal_presence</th>\n",
       "      <th>6_music_presence</th>\n",
       "      <th>7_human-voice_presence</th>\n",
       "      <th>8_dog_presence</th>\n",
       "    </tr>\n",
       "  </thead>\n",
       "  <tbody>\n",
       "    <tr>\n",
       "      <th>0</th>\n",
       "      <td>test</td>\n",
       "      <td>0</td>\n",
       "      <td>00_026884.wav</td>\n",
       "      <td>-6</td>\n",
       "      <td>1</td>\n",
       "      <td>547</td>\n",
       "      <td>40.72951</td>\n",
       "      <td>-73.99388</td>\n",
       "      <td>2019</td>\n",
       "      <td>43</td>\n",
       "      <td>...</td>\n",
       "      <td>-1</td>\n",
       "      <td>-1</td>\n",
       "      <td>-1</td>\n",
       "      <td>1</td>\n",
       "      <td>0</td>\n",
       "      <td>-1</td>\n",
       "      <td>-1</td>\n",
       "      <td>-1</td>\n",
       "      <td>-1</td>\n",
       "      <td>-1</td>\n",
       "    </tr>\n",
       "    <tr>\n",
       "      <th>1</th>\n",
       "      <td>test</td>\n",
       "      <td>0</td>\n",
       "      <td>00_026884.wav</td>\n",
       "      <td>-4</td>\n",
       "      <td>1</td>\n",
       "      <td>547</td>\n",
       "      <td>40.72951</td>\n",
       "      <td>-73.99388</td>\n",
       "      <td>2019</td>\n",
       "      <td>43</td>\n",
       "      <td>...</td>\n",
       "      <td>-1</td>\n",
       "      <td>-1</td>\n",
       "      <td>1</td>\n",
       "      <td>-1</td>\n",
       "      <td>-1</td>\n",
       "      <td>-1</td>\n",
       "      <td>-1</td>\n",
       "      <td>-1</td>\n",
       "      <td>-1</td>\n",
       "      <td>-1</td>\n",
       "    </tr>\n",
       "    <tr>\n",
       "      <th>2</th>\n",
       "      <td>test</td>\n",
       "      <td>0</td>\n",
       "      <td>00_026884.wav</td>\n",
       "      <td>-3</td>\n",
       "      <td>1</td>\n",
       "      <td>547</td>\n",
       "      <td>40.72951</td>\n",
       "      <td>-73.99388</td>\n",
       "      <td>2019</td>\n",
       "      <td>43</td>\n",
       "      <td>...</td>\n",
       "      <td>-1</td>\n",
       "      <td>-1</td>\n",
       "      <td>1</td>\n",
       "      <td>-1</td>\n",
       "      <td>-1</td>\n",
       "      <td>-1</td>\n",
       "      <td>-1</td>\n",
       "      <td>-1</td>\n",
       "      <td>-1</td>\n",
       "      <td>-1</td>\n",
       "    </tr>\n",
       "    <tr>\n",
       "      <th>3</th>\n",
       "      <td>test</td>\n",
       "      <td>0</td>\n",
       "      <td>00_026884.wav</td>\n",
       "      <td>-1</td>\n",
       "      <td>1</td>\n",
       "      <td>547</td>\n",
       "      <td>40.72951</td>\n",
       "      <td>-73.99388</td>\n",
       "      <td>2019</td>\n",
       "      <td>43</td>\n",
       "      <td>...</td>\n",
       "      <td>-1</td>\n",
       "      <td>-1</td>\n",
       "      <td>-1</td>\n",
       "      <td>0</td>\n",
       "      <td>0</td>\n",
       "      <td>-1</td>\n",
       "      <td>-1</td>\n",
       "      <td>-1</td>\n",
       "      <td>-1</td>\n",
       "      <td>-1</td>\n",
       "    </tr>\n",
       "    <tr>\n",
       "      <th>4</th>\n",
       "      <td>test</td>\n",
       "      <td>0</td>\n",
       "      <td>00_026884.wav</td>\n",
       "      <td>0</td>\n",
       "      <td>1</td>\n",
       "      <td>547</td>\n",
       "      <td>40.72951</td>\n",
       "      <td>-73.99388</td>\n",
       "      <td>2019</td>\n",
       "      <td>43</td>\n",
       "      <td>...</td>\n",
       "      <td>-1</td>\n",
       "      <td>-1</td>\n",
       "      <td>1</td>\n",
       "      <td>0</td>\n",
       "      <td>1</td>\n",
       "      <td>0</td>\n",
       "      <td>0</td>\n",
       "      <td>0</td>\n",
       "      <td>0</td>\n",
       "      <td>0</td>\n",
       "    </tr>\n",
       "  </tbody>\n",
       "</table>\n",
       "<p>5 rows × 78 columns</p>\n",
       "</div>"
      ],
      "text/plain": [
       "  split  sensor_id audio_filename  annotator_id  borough  block  latitude  \\\n",
       "0  test          0  00_026884.wav            -6        1    547  40.72951   \n",
       "1  test          0  00_026884.wav            -4        1    547  40.72951   \n",
       "2  test          0  00_026884.wav            -3        1    547  40.72951   \n",
       "3  test          0  00_026884.wav            -1        1    547  40.72951   \n",
       "4  test          0  00_026884.wav             0        1    547  40.72951   \n",
       "\n",
       "   longitude  year  week  ...  7-X_other-unknown-human-voice_proximity  \\\n",
       "0  -73.99388  2019    43  ...                                       -1   \n",
       "1  -73.99388  2019    43  ...                                       -1   \n",
       "2  -73.99388  2019    43  ...                                       -1   \n",
       "3  -73.99388  2019    43  ...                                       -1   \n",
       "4  -73.99388  2019    43  ...                                       -1   \n",
       "\n",
       "   8-1_dog-barking-whining_proximity  1_engine_presence  \\\n",
       "0                                 -1                 -1   \n",
       "1                                 -1                  1   \n",
       "2                                 -1                  1   \n",
       "3                                 -1                 -1   \n",
       "4                                 -1                  1   \n",
       "\n",
       "   2_machinery-impact_presence  3_non-machinery-impact_presence  \\\n",
       "0                            1                                0   \n",
       "1                           -1                               -1   \n",
       "2                           -1                               -1   \n",
       "3                            0                                0   \n",
       "4                            0                                1   \n",
       "\n",
       "   4_powered-saw_presence  5_alert-signal_presence  6_music_presence  \\\n",
       "0                      -1                       -1                -1   \n",
       "1                      -1                       -1                -1   \n",
       "2                      -1                       -1                -1   \n",
       "3                      -1                       -1                -1   \n",
       "4                       0                        0                 0   \n",
       "\n",
       "   7_human-voice_presence  8_dog_presence  \n",
       "0                      -1              -1  \n",
       "1                      -1              -1  \n",
       "2                      -1              -1  \n",
       "3                      -1              -1  \n",
       "4                       0               0  \n",
       "\n",
       "[5 rows x 78 columns]"
      ]
     },
     "execution_count": 10,
     "metadata": {},
     "output_type": "execute_result"
    }
   ],
   "source": [
    "# Revisamos los datos a nivel gloval\n",
    "Df_SonidosNyc.head()"
   ]
  },
  {
   "cell_type": "code",
   "execution_count": 7,
   "metadata": {},
   "outputs": [
    {
     "data": {
      "text/plain": [
       "Index(['split', 'sensor_id', 'audio_filename', 'annotator_id', 'borough',\n",
       "       'block', 'latitude', 'longitude', 'year', 'week', 'day', 'hour',\n",
       "       '1-1_small-sounding-engine_presence',\n",
       "       '1-2_medium-sounding-engine_presence',\n",
       "       '1-3_large-sounding-engine_presence',\n",
       "       '1-X_engine-of-uncertain-size_presence', '2-1_rock-drill_presence',\n",
       "       '2-2_jackhammer_presence', '2-3_hoe-ram_presence',\n",
       "       '2-4_pile-driver_presence',\n",
       "       '2-X_other-unknown-impact-machinery_presence',\n",
       "       '3-1_non-machinery-impact_presence', '4-1_chainsaw_presence',\n",
       "       '4-2_small-medium-rotating-saw_presence',\n",
       "       '4-3_large-rotating-saw_presence',\n",
       "       '4-X_other-unknown-powered-saw_presence', '5-1_car-horn_presence',\n",
       "       '5-2_car-alarm_presence', '5-3_siren_presence',\n",
       "       '5-4_reverse-beeper_presence',\n",
       "       '5-X_other-unknown-alert-signal_presence',\n",
       "       '6-1_stationary-music_presence', '6-2_mobile-music_presence',\n",
       "       '6-3_ice-cream-truck_presence',\n",
       "       '6-X_music-from-uncertain-source_presence',\n",
       "       '7-1_person-or-small-group-talking_presence',\n",
       "       '7-2_person-or-small-group-shouting_presence',\n",
       "       '7-3_large-crowd_presence', '7-4_amplified-speech_presence',\n",
       "       '7-X_other-unknown-human-voice_presence',\n",
       "       '8-1_dog-barking-whining_presence',\n",
       "       '1-1_small-sounding-engine_proximity',\n",
       "       '1-2_medium-sounding-engine_proximity',\n",
       "       '1-3_large-sounding-engine_proximity',\n",
       "       '1-X_engine-of-uncertain-size_proximity', '2-1_rock-drill_proximity',\n",
       "       '2-2_jackhammer_proximity', '2-3_hoe-ram_proximity',\n",
       "       '2-4_pile-driver_proximity',\n",
       "       '2-X_other-unknown-impact-machinery_proximity',\n",
       "       '3-1_non-machinery-impact_proximity', '4-1_chainsaw_proximity',\n",
       "       '4-2_small-medium-rotating-saw_proximity',\n",
       "       '4-3_large-rotating-saw_proximity',\n",
       "       '4-X_other-unknown-powered-saw_proximity', '5-1_car-horn_proximity',\n",
       "       '5-2_car-alarm_proximity', '5-3_siren_proximity',\n",
       "       '5-4_reverse-beeper_proximity',\n",
       "       '5-X_other-unknown-alert-signal_proximity',\n",
       "       '6-1_stationary-music_proximity', '6-2_mobile-music_proximity',\n",
       "       '6-3_ice-cream-truck_proximity',\n",
       "       '6-X_music-from-uncertain-source_proximity',\n",
       "       '7-1_person-or-small-group-talking_proximity',\n",
       "       '7-2_person-or-small-group-shouting_proximity',\n",
       "       '7-3_large-crowd_proximity', '7-4_amplified-speech_proximity',\n",
       "       '7-X_other-unknown-human-voice_proximity',\n",
       "       '8-1_dog-barking-whining_proximity', '1_engine_presence',\n",
       "       '2_machinery-impact_presence', '3_non-machinery-impact_presence',\n",
       "       '4_powered-saw_presence', '5_alert-signal_presence', '6_music_presence',\n",
       "       '7_human-voice_presence', '8_dog_presence'],\n",
       "      dtype='object')"
      ]
     },
     "execution_count": 7,
     "metadata": {},
     "output_type": "execute_result"
    }
   ],
   "source": [
    "# Validamos las columnas que tiene el dataset\n",
    "Df_SonidosNyc.columns"
   ]
  },
  {
   "cell_type": "markdown",
   "metadata": {},
   "source": [
    "# Contenido del cvs sonidos recolectados en NYC\n",
    "En el dataset anterior contiene datos sobre la contaminación auditiva que se produce en diferentes partes de la ciudad de New York, lo cual se toma por medio de un sensor el cual toma diferentes variables como sonido de taladros, animales, personas, autos y demas, por lo que en este dataset no cuenta con una metrica exacta de la contaminación auditiva, si no por lo contrario variables de ausencia de las mismas, más no una metrica con la que se pueda medir el nivel de contaminación.."
   ]
  },
  {
   "cell_type": "code",
   "execution_count": 11,
   "metadata": {},
   "outputs": [],
   "source": [
    "# Descargamos el cvs de calidad del aire a un dataframe \n",
    "df_Calidad_del_aire = pd.read_csv(r'c:\\Users\\LIBARDO\\Libardo A\\Henry\\Archivos PF\\Calidad_del_aire.csv')"
   ]
  },
  {
   "cell_type": "code",
   "execution_count": 12,
   "metadata": {},
   "outputs": [
    {
     "data": {
      "text/html": [
       "<div>\n",
       "<style scoped>\n",
       "    .dataframe tbody tr th:only-of-type {\n",
       "        vertical-align: middle;\n",
       "    }\n",
       "\n",
       "    .dataframe tbody tr th {\n",
       "        vertical-align: top;\n",
       "    }\n",
       "\n",
       "    .dataframe thead th {\n",
       "        text-align: right;\n",
       "    }\n",
       "</style>\n",
       "<table border=\"1\" class=\"dataframe\">\n",
       "  <thead>\n",
       "    <tr style=\"text-align: right;\">\n",
       "      <th></th>\n",
       "      <th>indicator_id</th>\n",
       "      <th>name</th>\n",
       "      <th>measure</th>\n",
       "      <th>geo_type_name</th>\n",
       "      <th>geo_join_id</th>\n",
       "      <th>data_value</th>\n",
       "      <th>geo_place_name</th>\n",
       "      <th>measure_info</th>\n",
       "      <th>time_period</th>\n",
       "      <th>message</th>\n",
       "      <th>start_date</th>\n",
       "      <th>unique_id</th>\n",
       "    </tr>\n",
       "  </thead>\n",
       "  <tbody>\n",
       "    <tr>\n",
       "      <th>0</th>\n",
       "      <td>643</td>\n",
       "      <td>Annual vehicle miles traveled</td>\n",
       "      <td>million miles</td>\n",
       "      <td>CD</td>\n",
       "      <td>107</td>\n",
       "      <td>50.0</td>\n",
       "      <td>Upper West Side (CD7)</td>\n",
       "      <td>per km2</td>\n",
       "      <td>2016</td>\n",
       "      <td>NaN</td>\n",
       "      <td>2016-01-01T00:00:00.000</td>\n",
       "      <td>325247</td>\n",
       "    </tr>\n",
       "    <tr>\n",
       "      <th>1</th>\n",
       "      <td>652</td>\n",
       "      <td>Cardiac and respiratory deaths due to Ozone</td>\n",
       "      <td>Estimated annual rate</td>\n",
       "      <td>Borough</td>\n",
       "      <td>5</td>\n",
       "      <td>7.8</td>\n",
       "      <td>Staten Island</td>\n",
       "      <td>per 100,000</td>\n",
       "      <td>2005-2007</td>\n",
       "      <td>NaN</td>\n",
       "      <td>2005-01-01T00:00:00.000</td>\n",
       "      <td>131026</td>\n",
       "    </tr>\n",
       "    <tr>\n",
       "      <th>2</th>\n",
       "      <td>652</td>\n",
       "      <td>Cardiac and respiratory deaths due to Ozone</td>\n",
       "      <td>Estimated annual rate</td>\n",
       "      <td>UHF42</td>\n",
       "      <td>504</td>\n",
       "      <td>7.5</td>\n",
       "      <td>South Beach - Tottenville</td>\n",
       "      <td>per 100,000</td>\n",
       "      <td>2005-2007</td>\n",
       "      <td>NaN</td>\n",
       "      <td>2005-01-01T00:00:00.000</td>\n",
       "      <td>131020</td>\n",
       "    </tr>\n",
       "    <tr>\n",
       "      <th>3</th>\n",
       "      <td>647</td>\n",
       "      <td>Outdoor Air Toxics - Formaldehyde</td>\n",
       "      <td>Annual average concentration</td>\n",
       "      <td>Borough</td>\n",
       "      <td>5</td>\n",
       "      <td>2.3</td>\n",
       "      <td>Staten Island</td>\n",
       "      <td>µg/m3</td>\n",
       "      <td>2005</td>\n",
       "      <td>NaN</td>\n",
       "      <td>2005-01-01T00:00:00.000</td>\n",
       "      <td>130780</td>\n",
       "    </tr>\n",
       "    <tr>\n",
       "      <th>4</th>\n",
       "      <td>647</td>\n",
       "      <td>Outdoor Air Toxics - Formaldehyde</td>\n",
       "      <td>Annual average concentration</td>\n",
       "      <td>UHF42</td>\n",
       "      <td>211</td>\n",
       "      <td>3.1</td>\n",
       "      <td>Williamsburg - Bushwick</td>\n",
       "      <td>µg/m3</td>\n",
       "      <td>2005</td>\n",
       "      <td>NaN</td>\n",
       "      <td>2005-01-01T00:00:00.000</td>\n",
       "      <td>130750</td>\n",
       "    </tr>\n",
       "  </tbody>\n",
       "</table>\n",
       "</div>"
      ],
      "text/plain": [
       "   indicator_id                                         name  \\\n",
       "0           643                Annual vehicle miles traveled   \n",
       "1           652  Cardiac and respiratory deaths due to Ozone   \n",
       "2           652  Cardiac and respiratory deaths due to Ozone   \n",
       "3           647            Outdoor Air Toxics - Formaldehyde   \n",
       "4           647            Outdoor Air Toxics - Formaldehyde   \n",
       "\n",
       "                        measure geo_type_name  geo_join_id  data_value  \\\n",
       "0                 million miles            CD          107        50.0   \n",
       "1         Estimated annual rate       Borough            5         7.8   \n",
       "2         Estimated annual rate         UHF42          504         7.5   \n",
       "3  Annual average concentration       Borough            5         2.3   \n",
       "4  Annual average concentration         UHF42          211         3.1   \n",
       "\n",
       "              geo_place_name measure_info time_period  message  \\\n",
       "0      Upper West Side (CD7)      per km2        2016      NaN   \n",
       "1              Staten Island  per 100,000   2005-2007      NaN   \n",
       "2  South Beach - Tottenville  per 100,000   2005-2007      NaN   \n",
       "3              Staten Island        µg/m3        2005      NaN   \n",
       "4    Williamsburg - Bushwick        µg/m3        2005      NaN   \n",
       "\n",
       "                start_date  unique_id  \n",
       "0  2016-01-01T00:00:00.000     325247  \n",
       "1  2005-01-01T00:00:00.000     131026  \n",
       "2  2005-01-01T00:00:00.000     131020  \n",
       "3  2005-01-01T00:00:00.000     130780  \n",
       "4  2005-01-01T00:00:00.000     130750  "
      ]
     },
     "execution_count": 12,
     "metadata": {},
     "output_type": "execute_result"
    }
   ],
   "source": [
    "# Revisampos el dataset de manera general\n",
    "df_Calidad_del_aire.head()"
   ]
  },
  {
   "cell_type": "code",
   "execution_count": 13,
   "metadata": {},
   "outputs": [
    {
     "name": "stdout",
     "output_type": "stream",
     "text": [
      "<class 'pandas.core.frame.DataFrame'>\n",
      "RangeIndex: 16218 entries, 0 to 16217\n",
      "Data columns (total 12 columns):\n",
      " #   Column          Non-Null Count  Dtype  \n",
      "---  ------          --------------  -----  \n",
      " 0   indicator_id    16218 non-null  int64  \n",
      " 1   name            16218 non-null  object \n",
      " 2   measure         16218 non-null  object \n",
      " 3   geo_type_name   16218 non-null  object \n",
      " 4   geo_join_id     16218 non-null  int64  \n",
      " 5   data_value      16218 non-null  float64\n",
      " 6   geo_place_name  16218 non-null  object \n",
      " 7   measure_info    16218 non-null  object \n",
      " 8   time_period     16218 non-null  object \n",
      " 9   message         0 non-null      float64\n",
      " 10  start_date      16218 non-null  object \n",
      " 11  unique_id       16218 non-null  int64  \n",
      "dtypes: float64(2), int64(3), object(7)\n",
      "memory usage: 1.5+ MB\n"
     ]
    }
   ],
   "source": [
    "# Revisamos la información de cada columna como los valores faltantes \n",
    "df_Calidad_del_aire.info()"
   ]
  },
  {
   "cell_type": "code",
   "execution_count": 14,
   "metadata": {},
   "outputs": [],
   "source": [
    "# Borramos las columna message ya que todos sus valores son nulos\n",
    "df_Calidad_del_aire = df_Calidad_del_aire.drop('message', axis= 1)"
   ]
  },
  {
   "cell_type": "code",
   "execution_count": 25,
   "metadata": {},
   "outputs": [
    {
     "data": {
      "text/plain": [
       "18"
      ]
     },
     "execution_count": 25,
     "metadata": {},
     "output_type": "execute_result"
    }
   ],
   "source": [
    "# sacamos los diferentes nombres de la columna name que cuenta con 18 diferentes nombres de indicadores\n",
    "unicos = df_Calidad_del_aire['name'].nunique()\n",
    "unicos"
   ]
  },
  {
   "cell_type": "code",
   "execution_count": 27,
   "metadata": {},
   "outputs": [
    {
     "data": {
      "text/plain": [
       "array(['million miles', 'Estimated annual rate',\n",
       "       'Annual average concentration',\n",
       "       'Estimated annual rate (under age 18)', 'Mean',\n",
       "       'Estimated annual rate (age 18+)',\n",
       "       'Estimated annual rate (age 30+)', 'Number per km2'], dtype=object)"
      ]
     },
     "execution_count": 27,
     "metadata": {},
     "output_type": "execute_result"
    }
   ],
   "source": [
    "df_Calidad_del_aire['measure'].unique()"
   ]
  },
  {
   "cell_type": "code",
   "execution_count": 26,
   "metadata": {},
   "outputs": [
    {
     "data": {
      "text/plain": [
       "8"
      ]
     },
     "execution_count": 26,
     "metadata": {},
     "output_type": "execute_result"
    }
   ],
   "source": [
    "# sacamos los valores diferentes de texto para saber cuantas maneras se toman las medidas del indicador\n",
    "unicos  = df_Calidad_del_aire['measure'].nunique()\n",
    "unicos"
   ]
  },
  {
   "cell_type": "code",
   "execution_count": 28,
   "metadata": {},
   "outputs": [
    {
     "data": {
      "text/plain": [
       "array(['CD', 'Borough', 'UHF42', 'UHF34', 'Citywide'], dtype=object)"
      ]
     },
     "execution_count": 28,
     "metadata": {},
     "output_type": "execute_result"
    }
   ],
   "source": [
    "df_Calidad_del_aire['geo_type_name'].unique()"
   ]
  },
  {
   "cell_type": "code",
   "execution_count": 29,
   "metadata": {},
   "outputs": [
    {
     "data": {
      "text/plain": [
       "5"
      ]
     },
     "execution_count": 29,
     "metadata": {},
     "output_type": "execute_result"
    }
   ],
   "source": [
    "# Valores unicos de las diferentes geografias donde se tomo las medidas\n",
    "unicos  = df_Calidad_del_aire['geo_type_name'].nunique()\n",
    "unicos"
   ]
  },
  {
   "cell_type": "code",
   "execution_count": 32,
   "metadata": {},
   "outputs": [
    {
     "data": {
      "text/plain": [
       "114"
      ]
     },
     "execution_count": 32,
     "metadata": {},
     "output_type": "execute_result"
    }
   ],
   "source": [
    "# Valores unicos de barrios que en su efecto son 114\n",
    "df_Calidad_del_aire['geo_place_name'].nunique()"
   ]
  },
  {
   "cell_type": "code",
   "execution_count": 34,
   "metadata": {},
   "outputs": [
    {
     "data": {
      "text/plain": [
       "array(['per km2', 'per 100,000', 'µg/m3', 'per 100,000 children', 'ppb',\n",
       "       'mcg/m3', 'per 100,000 adults', 'number'], dtype=object)"
      ]
     },
     "execution_count": 34,
     "metadata": {},
     "output_type": "execute_result"
    }
   ],
   "source": [
    "df_Calidad_del_aire['measure_info'].unique()"
   ]
  },
  {
   "cell_type": "code",
   "execution_count": 35,
   "metadata": {},
   "outputs": [
    {
     "data": {
      "text/plain": [
       "8"
      ]
     },
     "execution_count": 35,
     "metadata": {},
     "output_type": "execute_result"
    }
   ],
   "source": [
    "# Diferentes unidades sobre la medida \n",
    "df_Calidad_del_aire['measure_info'].nunique()"
   ]
  },
  {
   "cell_type": "code",
   "execution_count": 36,
   "metadata": {},
   "outputs": [
    {
     "data": {
      "text/plain": [
       "array(['2016', '2005-2007', '2005', 'Winter 2013-14', 'Winter 2008-09',\n",
       "       'Summer 2014', 'Winter 2017-18', 'Annual Average 2019',\n",
       "       'Annual Average 2009', 'Annual Average 2011',\n",
       "       'Annual Average 2020', 'Winter 2018-19', '2015-2017',\n",
       "       'Annual Average 2015', '2012-2014', '2011', '2014', '2009-2011',\n",
       "       'Summer 2019', 'Annual Average 2012', 'Summer 2016', 'Summer 2011',\n",
       "       'Summer 2010', '2-Year Summer Average 2009-2010', 'Summer 2009',\n",
       "       'Annual Average 2010', 'Winter 2012-13', 'Summer 2013',\n",
       "       'Summer 2021', 'Annual Average 2018', 'Annual Average 2016',\n",
       "       'Winter 2019-20', 'Summer 2015', 'Summer 2018', 'Summer 2020',\n",
       "       'Annual Average 2014', 'Summer 2012', 'Winter 2020-21',\n",
       "       'Winter 2015-16', '2013', '2015', 'Winter 2010-11',\n",
       "       'Annual Average 2021', 'Annual Average 2013', 'Winter 2016-17',\n",
       "       'Winter 2011-12', 'Winter 2009-10', 'Summer 2017',\n",
       "       'Annual Average 2017', 'Winter 2014-15'], dtype=object)"
      ]
     },
     "execution_count": 36,
     "metadata": {},
     "output_type": "execute_result"
    }
   ],
   "source": [
    "# Diferentes rangos de tiempos para los datos\n",
    "df_Calidad_del_aire['time_period'].unique()"
   ]
  },
  {
   "cell_type": "code",
   "execution_count": 43,
   "metadata": {},
   "outputs": [
    {
     "data": {
      "text/html": [
       "<div>\n",
       "<style scoped>\n",
       "    .dataframe tbody tr th:only-of-type {\n",
       "        vertical-align: middle;\n",
       "    }\n",
       "\n",
       "    .dataframe tbody tr th {\n",
       "        vertical-align: top;\n",
       "    }\n",
       "\n",
       "    .dataframe thead th {\n",
       "        text-align: right;\n",
       "    }\n",
       "</style>\n",
       "<table border=\"1\" class=\"dataframe\">\n",
       "  <thead>\n",
       "    <tr style=\"text-align: right;\">\n",
       "      <th></th>\n",
       "      <th>indicator_id</th>\n",
       "      <th>name</th>\n",
       "      <th>measure</th>\n",
       "      <th>geo_type_name</th>\n",
       "      <th>geo_join_id</th>\n",
       "      <th>data_value</th>\n",
       "      <th>geo_place_name</th>\n",
       "      <th>measure_info</th>\n",
       "      <th>time_period</th>\n",
       "      <th>start_date</th>\n",
       "      <th>unique_id</th>\n",
       "      <th>Date</th>\n",
       "    </tr>\n",
       "  </thead>\n",
       "  <tbody>\n",
       "    <tr>\n",
       "      <th>0</th>\n",
       "      <td>643</td>\n",
       "      <td>Annual vehicle miles traveled</td>\n",
       "      <td>million miles</td>\n",
       "      <td>CD</td>\n",
       "      <td>107</td>\n",
       "      <td>50.0</td>\n",
       "      <td>Upper West Side (CD7)</td>\n",
       "      <td>per km2</td>\n",
       "      <td>2016</td>\n",
       "      <td>2016-01-01T00:00:00.000</td>\n",
       "      <td>325247</td>\n",
       "      <td>2016-01-01</td>\n",
       "    </tr>\n",
       "    <tr>\n",
       "      <th>1</th>\n",
       "      <td>652</td>\n",
       "      <td>Cardiac and respiratory deaths due to Ozone</td>\n",
       "      <td>Estimated annual rate</td>\n",
       "      <td>Borough</td>\n",
       "      <td>5</td>\n",
       "      <td>7.8</td>\n",
       "      <td>Staten Island</td>\n",
       "      <td>per 100,000</td>\n",
       "      <td>2005-2007</td>\n",
       "      <td>2005-01-01T00:00:00.000</td>\n",
       "      <td>131026</td>\n",
       "      <td>2005-01-01</td>\n",
       "    </tr>\n",
       "  </tbody>\n",
       "</table>\n",
       "</div>"
      ],
      "text/plain": [
       "   indicator_id                                         name  \\\n",
       "0           643                Annual vehicle miles traveled   \n",
       "1           652  Cardiac and respiratory deaths due to Ozone   \n",
       "\n",
       "                 measure geo_type_name  geo_join_id  data_value  \\\n",
       "0          million miles            CD          107        50.0   \n",
       "1  Estimated annual rate       Borough            5         7.8   \n",
       "\n",
       "          geo_place_name measure_info time_period               start_date  \\\n",
       "0  Upper West Side (CD7)      per km2        2016  2016-01-01T00:00:00.000   \n",
       "1          Staten Island  per 100,000   2005-2007  2005-01-01T00:00:00.000   \n",
       "\n",
       "   unique_id        Date  \n",
       "0     325247  2016-01-01  \n",
       "1     131026  2005-01-01  "
      ]
     },
     "execution_count": 43,
     "metadata": {},
     "output_type": "execute_result"
    }
   ],
   "source": [
    "# Realizamos la transformación del tipo de fecha start_date a un formato correcto \n",
    "warnings.filterwarnings(\"ignore\")\n",
    "df_Calidad_del_aire['Date'] = df_Calidad_del_aire['start_date'].apply(lambda x: datetime.strptime(x, '%Y-%m-%dT%H:%M:%S.%f').date())\n",
    "# Trasformamos la columna a un tipo datetime y luego extraemos solo la fecha\n",
    "df_Calidad_del_aire['Date'] = pd.to_datetime(df_Calidad_del_aire['Date']).dt.date"
   ]
  },
  {
   "cell_type": "code",
   "execution_count": 44,
   "metadata": {},
   "outputs": [
    {
     "data": {
      "text/html": [
       "<div>\n",
       "<style scoped>\n",
       "    .dataframe tbody tr th:only-of-type {\n",
       "        vertical-align: middle;\n",
       "    }\n",
       "\n",
       "    .dataframe tbody tr th {\n",
       "        vertical-align: top;\n",
       "    }\n",
       "\n",
       "    .dataframe thead th {\n",
       "        text-align: right;\n",
       "    }\n",
       "</style>\n",
       "<table border=\"1\" class=\"dataframe\">\n",
       "  <thead>\n",
       "    <tr style=\"text-align: right;\">\n",
       "      <th></th>\n",
       "      <th>indicator_id</th>\n",
       "      <th>name</th>\n",
       "      <th>measure</th>\n",
       "      <th>geo_type_name</th>\n",
       "      <th>geo_join_id</th>\n",
       "      <th>data_value</th>\n",
       "      <th>geo_place_name</th>\n",
       "      <th>measure_info</th>\n",
       "      <th>time_period</th>\n",
       "      <th>unique_id</th>\n",
       "      <th>Date</th>\n",
       "    </tr>\n",
       "  </thead>\n",
       "  <tbody>\n",
       "    <tr>\n",
       "      <th>0</th>\n",
       "      <td>643</td>\n",
       "      <td>Annual vehicle miles traveled</td>\n",
       "      <td>million miles</td>\n",
       "      <td>CD</td>\n",
       "      <td>107</td>\n",
       "      <td>50.0</td>\n",
       "      <td>Upper West Side (CD7)</td>\n",
       "      <td>per km2</td>\n",
       "      <td>2016</td>\n",
       "      <td>325247</td>\n",
       "      <td>2016-01-01</td>\n",
       "    </tr>\n",
       "    <tr>\n",
       "      <th>1</th>\n",
       "      <td>652</td>\n",
       "      <td>Cardiac and respiratory deaths due to Ozone</td>\n",
       "      <td>Estimated annual rate</td>\n",
       "      <td>Borough</td>\n",
       "      <td>5</td>\n",
       "      <td>7.8</td>\n",
       "      <td>Staten Island</td>\n",
       "      <td>per 100,000</td>\n",
       "      <td>2005-2007</td>\n",
       "      <td>131026</td>\n",
       "      <td>2005-01-01</td>\n",
       "    </tr>\n",
       "  </tbody>\n",
       "</table>\n",
       "</div>"
      ],
      "text/plain": [
       "   indicator_id                                         name  \\\n",
       "0           643                Annual vehicle miles traveled   \n",
       "1           652  Cardiac and respiratory deaths due to Ozone   \n",
       "\n",
       "                 measure geo_type_name  geo_join_id  data_value  \\\n",
       "0          million miles            CD          107        50.0   \n",
       "1  Estimated annual rate       Borough            5         7.8   \n",
       "\n",
       "          geo_place_name measure_info time_period  unique_id        Date  \n",
       "0  Upper West Side (CD7)      per km2        2016     325247  2016-01-01  \n",
       "1          Staten Island  per 100,000   2005-2007     131026  2005-01-01  "
      ]
     },
     "execution_count": 44,
     "metadata": {},
     "output_type": "execute_result"
    }
   ],
   "source": [
    "# Borramos la columna star_date ya que es cambiada por la date\n",
    "df_Calidad_del_aire = df_Calidad_del_aire.drop('start_date', axis= 1)\n",
    "df_Calidad_del_aire.head(2)"
   ]
  },
  {
   "cell_type": "code",
   "execution_count": 45,
   "metadata": {},
   "outputs": [
    {
     "data": {
      "text/html": [
       "<div>\n",
       "<style scoped>\n",
       "    .dataframe tbody tr th:only-of-type {\n",
       "        vertical-align: middle;\n",
       "    }\n",
       "\n",
       "    .dataframe tbody tr th {\n",
       "        vertical-align: top;\n",
       "    }\n",
       "\n",
       "    .dataframe thead th {\n",
       "        text-align: right;\n",
       "    }\n",
       "</style>\n",
       "<table border=\"1\" class=\"dataframe\">\n",
       "  <thead>\n",
       "    <tr style=\"text-align: right;\">\n",
       "      <th></th>\n",
       "      <th>indicator_id</th>\n",
       "      <th>geo_join_id</th>\n",
       "      <th>data_value</th>\n",
       "      <th>unique_id</th>\n",
       "    </tr>\n",
       "  </thead>\n",
       "  <tbody>\n",
       "    <tr>\n",
       "      <th>count</th>\n",
       "      <td>16218.000000</td>\n",
       "      <td>1.621800e+04</td>\n",
       "      <td>16218.000000</td>\n",
       "      <td>16218.000000</td>\n",
       "    </tr>\n",
       "    <tr>\n",
       "      <th>mean</th>\n",
       "      <td>427.803613</td>\n",
       "      <td>6.097103e+05</td>\n",
       "      <td>19.975917</td>\n",
       "      <td>372730.417746</td>\n",
       "    </tr>\n",
       "    <tr>\n",
       "      <th>std</th>\n",
       "      <td>110.921411</td>\n",
       "      <td>7.893388e+06</td>\n",
       "      <td>21.322349</td>\n",
       "      <td>215507.613560</td>\n",
       "    </tr>\n",
       "    <tr>\n",
       "      <th>min</th>\n",
       "      <td>365.000000</td>\n",
       "      <td>1.000000e+00</td>\n",
       "      <td>0.000000</td>\n",
       "      <td>121644.000000</td>\n",
       "    </tr>\n",
       "    <tr>\n",
       "      <th>25%</th>\n",
       "      <td>365.000000</td>\n",
       "      <td>2.020000e+02</td>\n",
       "      <td>9.050000</td>\n",
       "      <td>173211.250000</td>\n",
       "    </tr>\n",
       "    <tr>\n",
       "      <th>50%</th>\n",
       "      <td>375.000000</td>\n",
       "      <td>3.030000e+02</td>\n",
       "      <td>15.300000</td>\n",
       "      <td>325262.500000</td>\n",
       "    </tr>\n",
       "    <tr>\n",
       "      <th>75%</th>\n",
       "      <td>386.000000</td>\n",
       "      <td>4.040000e+02</td>\n",
       "      <td>26.037500</td>\n",
       "      <td>605270.750000</td>\n",
       "    </tr>\n",
       "    <tr>\n",
       "      <th>max</th>\n",
       "      <td>661.000000</td>\n",
       "      <td>1.051061e+08</td>\n",
       "      <td>424.700000</td>\n",
       "      <td>799868.000000</td>\n",
       "    </tr>\n",
       "  </tbody>\n",
       "</table>\n",
       "</div>"
      ],
      "text/plain": [
       "       indicator_id   geo_join_id    data_value      unique_id\n",
       "count  16218.000000  1.621800e+04  16218.000000   16218.000000\n",
       "mean     427.803613  6.097103e+05     19.975917  372730.417746\n",
       "std      110.921411  7.893388e+06     21.322349  215507.613560\n",
       "min      365.000000  1.000000e+00      0.000000  121644.000000\n",
       "25%      365.000000  2.020000e+02      9.050000  173211.250000\n",
       "50%      375.000000  3.030000e+02     15.300000  325262.500000\n",
       "75%      386.000000  4.040000e+02     26.037500  605270.750000\n",
       "max      661.000000  1.051061e+08    424.700000  799868.000000"
      ]
     },
     "execution_count": 45,
     "metadata": {},
     "output_type": "execute_result"
    }
   ],
   "source": [
    "# Descripción general de dat_value, se puede pareciar que tiene valores muy altos en comparación de los demas\n",
    "df_Calidad_del_aire.describe()"
   ]
  },
  {
   "cell_type": "code",
   "execution_count": 48,
   "metadata": {},
   "outputs": [
    {
     "data": {
      "text/html": [
       "<div>\n",
       "<style scoped>\n",
       "    .dataframe tbody tr th:only-of-type {\n",
       "        vertical-align: middle;\n",
       "    }\n",
       "\n",
       "    .dataframe tbody tr th {\n",
       "        vertical-align: top;\n",
       "    }\n",
       "\n",
       "    .dataframe thead th {\n",
       "        text-align: right;\n",
       "    }\n",
       "</style>\n",
       "<table border=\"1\" class=\"dataframe\">\n",
       "  <thead>\n",
       "    <tr style=\"text-align: right;\">\n",
       "      <th></th>\n",
       "      <th>indicator_id</th>\n",
       "      <th>name</th>\n",
       "      <th>measure</th>\n",
       "      <th>geo_type_name</th>\n",
       "      <th>geo_join_id</th>\n",
       "      <th>data_value</th>\n",
       "      <th>geo_place_name</th>\n",
       "      <th>measure_info</th>\n",
       "      <th>time_period</th>\n",
       "      <th>unique_id</th>\n",
       "      <th>Date</th>\n",
       "      <th>Year</th>\n",
       "    </tr>\n",
       "  </thead>\n",
       "  <tbody>\n",
       "    <tr>\n",
       "      <th>0</th>\n",
       "      <td>643</td>\n",
       "      <td>Annual vehicle miles traveled</td>\n",
       "      <td>million miles</td>\n",
       "      <td>CD</td>\n",
       "      <td>107</td>\n",
       "      <td>50.0</td>\n",
       "      <td>Upper West Side (CD7)</td>\n",
       "      <td>per km2</td>\n",
       "      <td>2016</td>\n",
       "      <td>325247</td>\n",
       "      <td>2016-01-01</td>\n",
       "      <td>2016</td>\n",
       "    </tr>\n",
       "    <tr>\n",
       "      <th>1</th>\n",
       "      <td>652</td>\n",
       "      <td>Cardiac and respiratory deaths due to Ozone</td>\n",
       "      <td>Estimated annual rate</td>\n",
       "      <td>Borough</td>\n",
       "      <td>5</td>\n",
       "      <td>7.8</td>\n",
       "      <td>Staten Island</td>\n",
       "      <td>per 100,000</td>\n",
       "      <td>2005-2007</td>\n",
       "      <td>131026</td>\n",
       "      <td>2005-01-01</td>\n",
       "      <td>2005</td>\n",
       "    </tr>\n",
       "  </tbody>\n",
       "</table>\n",
       "</div>"
      ],
      "text/plain": [
       "   indicator_id                                         name  \\\n",
       "0           643                Annual vehicle miles traveled   \n",
       "1           652  Cardiac and respiratory deaths due to Ozone   \n",
       "\n",
       "                 measure geo_type_name  geo_join_id  data_value  \\\n",
       "0          million miles            CD          107        50.0   \n",
       "1  Estimated annual rate       Borough            5         7.8   \n",
       "\n",
       "          geo_place_name measure_info time_period  unique_id        Date  Year  \n",
       "0  Upper West Side (CD7)      per km2        2016     325247  2016-01-01  2016  \n",
       "1          Staten Island  per 100,000   2005-2007     131026  2005-01-01  2005  "
      ]
     },
     "execution_count": 48,
     "metadata": {},
     "output_type": "execute_result"
    }
   ],
   "source": [
    "# Extraemos el año de nuestra columna date\n",
    "df_Calidad_del_aire['Year'] = df_Calidad_del_aire['Date'].apply(lambda x: x.year)\n",
    "df_Calidad_del_aire.head(2)"
   ]
  },
  {
   "cell_type": "code",
   "execution_count": 51,
   "metadata": {},
   "outputs": [
    {
     "data": {
      "image/png": "[encoded data removed]",
      "text/plain": [
       "<Figure size 1000x500 with 1 Axes>"
      ]
     },
     "metadata": {},
     "output_type": "display_data"
    }
   ],
   "source": [
    "plt.figure(figsize=(10, 5))\n",
    "sns.boxplot(x='Year', y='data_value', data=df_Calidad_del_aire)\n",
    "plt.xlabel('Fecha')\n",
    "plt.ylabel('Niveles de contaminación')\n",
    "plt.title('Diagrama para detectar outliers')\n",
    "plt.grid(True)\n",
    "plt.show()"
   ]
  },
  {
   "cell_type": "markdown",
   "metadata": {},
   "source": [
    "En el anterior dataframe podemos ver que contamos con muchos valores que podrian ser outliers pero que hay que examinar a fondo "
   ]
  },
  {
   "cell_type": "code",
   "execution_count": 53,
   "metadata": {},
   "outputs": [
    {
     "data": {
      "image/png": "[encoded data removed]",
      "text/plain": [
       "<Figure size 1000x600 with 1 Axes>"
      ]
     },
     "metadata": {},
     "output_type": "display_data"
    }
   ],
   "source": [
    "# Configurar el estilo de la gráfica\n",
    "sns.set(style=\"whitegrid\")\n",
    "\n",
    "# Crear la gráfica\n",
    "plt.figure(figsize=(10, 6))\n",
    "sns.lineplot(data=df_Calidad_del_aire, x='Year', y='data_value', hue='measure_info', marker=\"o\")\n",
    "\n",
    "# Configurar los ejes\n",
    "plt.xlabel('Año')\n",
    "plt.ylabel('Calidad del aire')\n",
    "plt.title('Valores por calidad del aire y Año')\n",
    "\n",
    "# Mostrar la gráfica\n",
    "plt.show()"
   ]
  },
  {
   "cell_type": "markdown",
   "metadata": {},
   "source": [
    "En el anterio grafico podemos ver las diferentes medidas tomadas de la calidad del aire, donde podemos concluir que en primer lugar los vaores altos pertenecen a 'per 100.000 children' y podriamos descartar la opción de existencia de outliers, otra conclución es que se puede ver una pequeña disminución en la calidad del aire desde el año 2016 hasta los años actuales en todas las diferentes medidas tomadas."
   ]
  },
  {
   "cell_type": "code",
   "execution_count": 54,
   "metadata": {},
   "outputs": [],
   "source": [
    "\n",
    "\"\"\"df_Calidad_del_aire.to_parquet('Calidad_aire.parquet', engine='pyarrow', index= False)\"\"\""
   ]
  }
 ],
 "metadata": {
  "kernelspec": {
   "display_name": "Python 3",
   "language": "python",
   "name": "python3"
  },
  "language_info": {
   "codemirror_mode": {
    "name": "ipython",
    "version": 3
   },
   "file_extension": ".py",
   "mimetype": "text/x-python",
   "name": "python",
   "nbconvert_exporter": "python",
   "pygments_lexer": "ipython3",
   "version": "3.10.11"
  }
 },
 "nbformat": 4,
 "nbformat_minor": 2
}
