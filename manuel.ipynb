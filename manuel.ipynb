{
 "cells": [
  {
   "cell_type": "markdown",
   "metadata": {},
   "source": [
    "### Se importan las librerias"
   ]
  },
  {
   "cell_type": "code",
   "execution_count": 131,
   "metadata": {},
   "outputs": [],
   "source": [
    "import pandas as pd\n",
    "import matplotlib.pyplot as plt\n",
    "import seaborn as sns\n",
    "from re import search\n",
    "import warnings\n",
    "warnings.filterwarnings(\"ignore\")"
   ]
  },
  {
   "cell_type": "markdown",
   "metadata": {},
   "source": [
    "### Estaciones de Carga de Combustible Electrico y Alternativo"
   ]
  },
  {
   "cell_type": "code",
   "execution_count": 106,
   "metadata": {},
   "outputs": [],
   "source": [
    "df_eafcs = pd.read_csv('sources/Electric and Alternative Fuel Charging Stations.csv')"
   ]
  },
  {
   "cell_type": "markdown",
   "metadata": {},
   "source": [
    "Se muestran los primeros registros"
   ]
  },
  {
   "cell_type": "code",
   "execution_count": 107,
   "metadata": {},
   "outputs": [
    {
     "data": {
      "text/html": [
       "<div>\n",
       "<style scoped>\n",
       "    .dataframe tbody tr th:only-of-type {\n",
       "        vertical-align: middle;\n",
       "    }\n",
       "\n",
       "    .dataframe tbody tr th {\n",
       "        vertical-align: top;\n",
       "    }\n",
       "\n",
       "    .dataframe thead th {\n",
       "        text-align: right;\n",
       "    }\n",
       "</style>\n",
       "<table border=\"1\" class=\"dataframe\">\n",
       "  <thead>\n",
       "    <tr style=\"text-align: right;\">\n",
       "      <th></th>\n",
       "      <th>Fuel Type Code</th>\n",
       "      <th>Station Name</th>\n",
       "      <th>Street Address</th>\n",
       "      <th>Intersection Directions</th>\n",
       "      <th>City</th>\n",
       "      <th>State</th>\n",
       "      <th>ZIP</th>\n",
       "      <th>Plus4</th>\n",
       "      <th>Station Phone</th>\n",
       "      <th>Status Code</th>\n",
       "      <th>...</th>\n",
       "      <th>EV Pricing (French)</th>\n",
       "      <th>LPG Nozzle Types</th>\n",
       "      <th>Hydrogen Pressures</th>\n",
       "      <th>Hydrogen Standards</th>\n",
       "      <th>CNG Fill Type Code</th>\n",
       "      <th>CNG PSI</th>\n",
       "      <th>CNG Vehicle Class</th>\n",
       "      <th>LNG Vehicle Class</th>\n",
       "      <th>EV On-Site Renewable Source</th>\n",
       "      <th>Restricted Access</th>\n",
       "    </tr>\n",
       "  </thead>\n",
       "  <tbody>\n",
       "    <tr>\n",
       "      <th>0</th>\n",
       "      <td>CNG</td>\n",
       "      <td>Spire - Montgomery Operations Center</td>\n",
       "      <td>2951 Chestnut St</td>\n",
       "      <td>NaN</td>\n",
       "      <td>Montgomery</td>\n",
       "      <td>AL</td>\n",
       "      <td>36107</td>\n",
       "      <td>NaN</td>\n",
       "      <td>NaN</td>\n",
       "      <td>E</td>\n",
       "      <td>...</td>\n",
       "      <td>NaN</td>\n",
       "      <td>NaN</td>\n",
       "      <td>NaN</td>\n",
       "      <td>NaN</td>\n",
       "      <td>B</td>\n",
       "      <td>3600</td>\n",
       "      <td>MD</td>\n",
       "      <td>NaN</td>\n",
       "      <td>NaN</td>\n",
       "      <td>NaN</td>\n",
       "    </tr>\n",
       "    <tr>\n",
       "      <th>1</th>\n",
       "      <td>CNG</td>\n",
       "      <td>PS Energy - Atlanta</td>\n",
       "      <td>340 Whitehall St</td>\n",
       "      <td>From I-7585 N, exit 91 to Central Ave, left on...</td>\n",
       "      <td>Atlanta</td>\n",
       "      <td>GA</td>\n",
       "      <td>30303</td>\n",
       "      <td>NaN</td>\n",
       "      <td>770-350-3000</td>\n",
       "      <td>E</td>\n",
       "      <td>...</td>\n",
       "      <td>NaN</td>\n",
       "      <td>NaN</td>\n",
       "      <td>NaN</td>\n",
       "      <td>NaN</td>\n",
       "      <td>Q</td>\n",
       "      <td>3600</td>\n",
       "      <td>MD</td>\n",
       "      <td>NaN</td>\n",
       "      <td>NaN</td>\n",
       "      <td>False</td>\n",
       "    </tr>\n",
       "    <tr>\n",
       "      <th>2</th>\n",
       "      <td>CNG</td>\n",
       "      <td>Metropolitan Atlanta Rapid Transit Authority</td>\n",
       "      <td>2424 Piedmont Rd NE</td>\n",
       "      <td>NaN</td>\n",
       "      <td>Atlanta</td>\n",
       "      <td>GA</td>\n",
       "      <td>30324</td>\n",
       "      <td>NaN</td>\n",
       "      <td>NaN</td>\n",
       "      <td>E</td>\n",
       "      <td>...</td>\n",
       "      <td>NaN</td>\n",
       "      <td>NaN</td>\n",
       "      <td>NaN</td>\n",
       "      <td>NaN</td>\n",
       "      <td>Q</td>\n",
       "      <td>3000</td>\n",
       "      <td>LD</td>\n",
       "      <td>NaN</td>\n",
       "      <td>NaN</td>\n",
       "      <td>NaN</td>\n",
       "    </tr>\n",
       "    <tr>\n",
       "      <th>3</th>\n",
       "      <td>CNG</td>\n",
       "      <td>United Parcel Service</td>\n",
       "      <td>270 Marvin Miller Dr</td>\n",
       "      <td>NaN</td>\n",
       "      <td>Atlanta</td>\n",
       "      <td>GA</td>\n",
       "      <td>30336</td>\n",
       "      <td>NaN</td>\n",
       "      <td>NaN</td>\n",
       "      <td>E</td>\n",
       "      <td>...</td>\n",
       "      <td>NaN</td>\n",
       "      <td>NaN</td>\n",
       "      <td>NaN</td>\n",
       "      <td>NaN</td>\n",
       "      <td>B</td>\n",
       "      <td>3600</td>\n",
       "      <td>HD</td>\n",
       "      <td>NaN</td>\n",
       "      <td>NaN</td>\n",
       "      <td>NaN</td>\n",
       "    </tr>\n",
       "    <tr>\n",
       "      <th>4</th>\n",
       "      <td>CNG</td>\n",
       "      <td>Arkansas Oklahoma Gas Corp</td>\n",
       "      <td>2100 S Waldron Rd</td>\n",
       "      <td>NaN</td>\n",
       "      <td>Fort Smith</td>\n",
       "      <td>AR</td>\n",
       "      <td>72903</td>\n",
       "      <td>NaN</td>\n",
       "      <td>479-783-3188</td>\n",
       "      <td>E</td>\n",
       "      <td>...</td>\n",
       "      <td>NaN</td>\n",
       "      <td>NaN</td>\n",
       "      <td>NaN</td>\n",
       "      <td>NaN</td>\n",
       "      <td>Q</td>\n",
       "      <td>3600</td>\n",
       "      <td>MD</td>\n",
       "      <td>NaN</td>\n",
       "      <td>NaN</td>\n",
       "      <td>False</td>\n",
       "    </tr>\n",
       "  </tbody>\n",
       "</table>\n",
       "<p>5 rows × 65 columns</p>\n",
       "</div>"
      ],
      "text/plain": [
       "  Fuel Type Code                                  Station Name  \\\n",
       "0            CNG          Spire - Montgomery Operations Center   \n",
       "1            CNG                           PS Energy - Atlanta   \n",
       "2            CNG  Metropolitan Atlanta Rapid Transit Authority   \n",
       "3            CNG                         United Parcel Service   \n",
       "4            CNG                    Arkansas Oklahoma Gas Corp   \n",
       "\n",
       "         Street Address                            Intersection Directions  \\\n",
       "0      2951 Chestnut St                                                NaN   \n",
       "1      340 Whitehall St  From I-7585 N, exit 91 to Central Ave, left on...   \n",
       "2   2424 Piedmont Rd NE                                                NaN   \n",
       "3  270 Marvin Miller Dr                                                NaN   \n",
       "4     2100 S Waldron Rd                                                NaN   \n",
       "\n",
       "         City State    ZIP  Plus4 Station Phone Status Code  ...  \\\n",
       "0  Montgomery    AL  36107    NaN           NaN           E  ...   \n",
       "1     Atlanta    GA  30303    NaN  770-350-3000           E  ...   \n",
       "2     Atlanta    GA  30324    NaN           NaN           E  ...   \n",
       "3     Atlanta    GA  30336    NaN           NaN           E  ...   \n",
       "4  Fort Smith    AR  72903    NaN  479-783-3188           E  ...   \n",
       "\n",
       "  EV Pricing (French) LPG Nozzle Types Hydrogen Pressures Hydrogen Standards  \\\n",
       "0                 NaN              NaN                NaN                NaN   \n",
       "1                 NaN              NaN                NaN                NaN   \n",
       "2                 NaN              NaN                NaN                NaN   \n",
       "3                 NaN              NaN                NaN                NaN   \n",
       "4                 NaN              NaN                NaN                NaN   \n",
       "\n",
       "  CNG Fill Type Code CNG PSI CNG Vehicle Class  LNG Vehicle Class  \\\n",
       "0                  B    3600                MD                NaN   \n",
       "1                  Q    3600                MD                NaN   \n",
       "2                  Q    3000                LD                NaN   \n",
       "3                  B    3600                HD                NaN   \n",
       "4                  Q    3600                MD                NaN   \n",
       "\n",
       "   EV On-Site Renewable Source  Restricted Access  \n",
       "0                          NaN                NaN  \n",
       "1                          NaN              False  \n",
       "2                          NaN                NaN  \n",
       "3                          NaN                NaN  \n",
       "4                          NaN              False  \n",
       "\n",
       "[5 rows x 65 columns]"
      ]
     },
     "execution_count": 107,
     "metadata": {},
     "output_type": "execute_result"
    }
   ],
   "source": [
    "df_eafcs.head()"
   ]
  },
  {
   "cell_type": "markdown",
   "metadata": {},
   "source": [
    "Se eliminan las colimnas no necesarias"
   ]
  },
  {
   "cell_type": "code",
   "execution_count": 108,
   "metadata": {},
   "outputs": [],
   "source": [
    "df_eafcs_col_eli = ['Intersection Directions', 'ZIP', 'Plus4','Restricted Access',\n",
    "       'Station Phone', 'Status Code', 'Expected Date',\n",
    "       'Groups With Access Code', 'Access Days Time', 'Cards Accepted',\n",
    "       'BD Blends', 'NG Fill Type Code', 'NG PSI', 'EV Level1 EVSE Num',\n",
    "       'EV Level2 EVSE Num', 'EV DC Fast Count', 'EV Other Info', 'EV Network',\n",
    "       'EV Network Web', 'Geocode Status','EV On-Site Renewable Source',\n",
    "       'Date Last Confirmed', 'ID', 'Updated At', 'Owner Type Code',\n",
    "       'Federal Agency ID', 'Federal Agency Name', 'Open Date',\n",
    "       'Hydrogen Status Link', 'NG Vehicle Class', 'LPG Primary',\n",
    "       'E85 Blender Pump', 'EV Connector Types', 'Country','LNG Vehicle Class',\n",
    "       'Intersection Directions (French)', 'Access Days Time (French)',\n",
    "       'BD Blends (French)', 'Groups With Access Code (French)',\n",
    "       'Hydrogen Is Retail', 'Access Code', 'Access Detail Code',\n",
    "       'Federal Agency Code', 'Facility Type', 'CNG Dispenser Num',\n",
    "       'CNG On-Site Renewable Source', 'CNG Total Compression Capacity',\n",
    "       'CNG Storage Capacity', 'LNG On-Site Renewable Source',\n",
    "       'E85 Other Ethanol Blends', 'EV Pricing', 'EV Pricing (French)',\n",
    "       'LPG Nozzle Types', 'Hydrogen Pressures', 'Hydrogen Standards',\n",
    "       'CNG Fill Type Code', 'CNG PSI', 'CNG Vehicle Class']\n",
    "\n",
    "df_eafcs.drop(df_eafcs_col_eli, axis=1, inplace=True)"
   ]
  },
  {
   "cell_type": "markdown",
   "metadata": {},
   "source": [
    "Se muestra el dataframe"
   ]
  },
  {
   "cell_type": "code",
   "execution_count": 109,
   "metadata": {},
   "outputs": [
    {
     "data": {
      "text/html": [
       "<div>\n",
       "<style scoped>\n",
       "    .dataframe tbody tr th:only-of-type {\n",
       "        vertical-align: middle;\n",
       "    }\n",
       "\n",
       "    .dataframe tbody tr th {\n",
       "        vertical-align: top;\n",
       "    }\n",
       "\n",
       "    .dataframe thead th {\n",
       "        text-align: right;\n",
       "    }\n",
       "</style>\n",
       "<table border=\"1\" class=\"dataframe\">\n",
       "  <thead>\n",
       "    <tr style=\"text-align: right;\">\n",
       "      <th></th>\n",
       "      <th>Fuel Type Code</th>\n",
       "      <th>Station Name</th>\n",
       "      <th>Street Address</th>\n",
       "      <th>City</th>\n",
       "      <th>State</th>\n",
       "      <th>Latitude</th>\n",
       "      <th>Longitude</th>\n",
       "    </tr>\n",
       "  </thead>\n",
       "  <tbody>\n",
       "    <tr>\n",
       "      <th>0</th>\n",
       "      <td>CNG</td>\n",
       "      <td>Spire - Montgomery Operations Center</td>\n",
       "      <td>2951 Chestnut St</td>\n",
       "      <td>Montgomery</td>\n",
       "      <td>AL</td>\n",
       "      <td>32.367916</td>\n",
       "      <td>-86.267021</td>\n",
       "    </tr>\n",
       "    <tr>\n",
       "      <th>1</th>\n",
       "      <td>CNG</td>\n",
       "      <td>PS Energy - Atlanta</td>\n",
       "      <td>340 Whitehall St</td>\n",
       "      <td>Atlanta</td>\n",
       "      <td>GA</td>\n",
       "      <td>33.745843</td>\n",
       "      <td>-84.398837</td>\n",
       "    </tr>\n",
       "    <tr>\n",
       "      <th>2</th>\n",
       "      <td>CNG</td>\n",
       "      <td>Metropolitan Atlanta Rapid Transit Authority</td>\n",
       "      <td>2424 Piedmont Rd NE</td>\n",
       "      <td>Atlanta</td>\n",
       "      <td>GA</td>\n",
       "      <td>33.821911</td>\n",
       "      <td>-84.367461</td>\n",
       "    </tr>\n",
       "    <tr>\n",
       "      <th>3</th>\n",
       "      <td>CNG</td>\n",
       "      <td>United Parcel Service</td>\n",
       "      <td>270 Marvin Miller Dr</td>\n",
       "      <td>Atlanta</td>\n",
       "      <td>GA</td>\n",
       "      <td>33.760256</td>\n",
       "      <td>-84.543822</td>\n",
       "    </tr>\n",
       "    <tr>\n",
       "      <th>4</th>\n",
       "      <td>CNG</td>\n",
       "      <td>Arkansas Oklahoma Gas Corp</td>\n",
       "      <td>2100 S Waldron Rd</td>\n",
       "      <td>Fort Smith</td>\n",
       "      <td>AR</td>\n",
       "      <td>35.362213</td>\n",
       "      <td>-94.375338</td>\n",
       "    </tr>\n",
       "  </tbody>\n",
       "</table>\n",
       "</div>"
      ],
      "text/plain": [
       "  Fuel Type Code                                  Station Name  \\\n",
       "0            CNG          Spire - Montgomery Operations Center   \n",
       "1            CNG                           PS Energy - Atlanta   \n",
       "2            CNG  Metropolitan Atlanta Rapid Transit Authority   \n",
       "3            CNG                         United Parcel Service   \n",
       "4            CNG                    Arkansas Oklahoma Gas Corp   \n",
       "\n",
       "         Street Address        City State   Latitude  Longitude  \n",
       "0      2951 Chestnut St  Montgomery    AL  32.367916 -86.267021  \n",
       "1      340 Whitehall St     Atlanta    GA  33.745843 -84.398837  \n",
       "2   2424 Piedmont Rd NE     Atlanta    GA  33.821911 -84.367461  \n",
       "3  270 Marvin Miller Dr     Atlanta    GA  33.760256 -84.543822  \n",
       "4     2100 S Waldron Rd  Fort Smith    AR  35.362213 -94.375338  "
      ]
     },
     "execution_count": 109,
     "metadata": {},
     "output_type": "execute_result"
    }
   ],
   "source": [
    "df_eafcs.head()"
   ]
  },
  {
   "cell_type": "markdown",
   "metadata": {},
   "source": [
    "Se filtra el dataframe para estado de Nueva York y ciudades de Manhattan, Brooklyn, Bronx, Queens, Staten Island"
   ]
  },
  {
   "cell_type": "code",
   "execution_count": 110,
   "metadata": {},
   "outputs": [],
   "source": [
    "df_eafcs = df_eafcs[(df_eafcs['State'] == 'NY') & (df_eafcs['City'].isin(['Manhattan', 'Brooklyn', 'Bronx', 'Queens', 'Staten Island']))]"
   ]
  },
  {
   "cell_type": "markdown",
   "metadata": {},
   "source": [
    "Se muestra el dataframe"
   ]
  },
  {
   "cell_type": "code",
   "execution_count": 111,
   "metadata": {},
   "outputs": [
    {
     "data": {
      "text/html": [
       "<div>\n",
       "<style scoped>\n",
       "    .dataframe tbody tr th:only-of-type {\n",
       "        vertical-align: middle;\n",
       "    }\n",
       "\n",
       "    .dataframe tbody tr th {\n",
       "        vertical-align: top;\n",
       "    }\n",
       "\n",
       "    .dataframe thead th {\n",
       "        text-align: right;\n",
       "    }\n",
       "</style>\n",
       "<table border=\"1\" class=\"dataframe\">\n",
       "  <thead>\n",
       "    <tr style=\"text-align: right;\">\n",
       "      <th></th>\n",
       "      <th>Fuel Type Code</th>\n",
       "      <th>Station Name</th>\n",
       "      <th>Street Address</th>\n",
       "      <th>City</th>\n",
       "      <th>State</th>\n",
       "      <th>Latitude</th>\n",
       "      <th>Longitude</th>\n",
       "    </tr>\n",
       "  </thead>\n",
       "  <tbody>\n",
       "    <tr>\n",
       "      <th>7</th>\n",
       "      <td>CNG</td>\n",
       "      <td>Clean Energy - Greenpoint - National Grid</td>\n",
       "      <td>287 Maspeth Ave</td>\n",
       "      <td>Brooklyn</td>\n",
       "      <td>NY</td>\n",
       "      <td>40.718037</td>\n",
       "      <td>-73.932309</td>\n",
       "    </tr>\n",
       "    <tr>\n",
       "      <th>8</th>\n",
       "      <td>CNG</td>\n",
       "      <td>Canarsie - National Grid</td>\n",
       "      <td>8424 Ditmas Ave</td>\n",
       "      <td>Brooklyn</td>\n",
       "      <td>NY</td>\n",
       "      <td>40.645540</td>\n",
       "      <td>-73.918344</td>\n",
       "    </tr>\n",
       "    <tr>\n",
       "      <th>11</th>\n",
       "      <td>CNG</td>\n",
       "      <td>Con Edison - Van Nest Service Center</td>\n",
       "      <td>1615 Bronxdale Ave</td>\n",
       "      <td>Bronx</td>\n",
       "      <td>NY</td>\n",
       "      <td>40.844188</td>\n",
       "      <td>-73.861572</td>\n",
       "    </tr>\n",
       "    <tr>\n",
       "      <th>13</th>\n",
       "      <td>CNG</td>\n",
       "      <td>Con Edison - College Point Service Center</td>\n",
       "      <td>124-15 31st Ave</td>\n",
       "      <td>Queens</td>\n",
       "      <td>NY</td>\n",
       "      <td>40.769623</td>\n",
       "      <td>-73.843069</td>\n",
       "    </tr>\n",
       "    <tr>\n",
       "      <th>1500</th>\n",
       "      <td>CNG</td>\n",
       "      <td>Bronx Zoo</td>\n",
       "      <td>2300 Southern Blvd</td>\n",
       "      <td>Bronx</td>\n",
       "      <td>NY</td>\n",
       "      <td>40.850018</td>\n",
       "      <td>-73.878128</td>\n",
       "    </tr>\n",
       "  </tbody>\n",
       "</table>\n",
       "</div>"
      ],
      "text/plain": [
       "     Fuel Type Code                               Station Name  \\\n",
       "7               CNG  Clean Energy - Greenpoint - National Grid   \n",
       "8               CNG                   Canarsie - National Grid   \n",
       "11              CNG       Con Edison - Van Nest Service Center   \n",
       "13              CNG  Con Edison - College Point Service Center   \n",
       "1500            CNG                                  Bronx Zoo   \n",
       "\n",
       "          Street Address      City State   Latitude  Longitude  \n",
       "7        287 Maspeth Ave  Brooklyn    NY  40.718037 -73.932309  \n",
       "8        8424 Ditmas Ave  Brooklyn    NY  40.645540 -73.918344  \n",
       "11    1615 Bronxdale Ave     Bronx    NY  40.844188 -73.861572  \n",
       "13       124-15 31st Ave    Queens    NY  40.769623 -73.843069  \n",
       "1500  2300 Southern Blvd     Bronx    NY  40.850018 -73.878128  "
      ]
     },
     "execution_count": 111,
     "metadata": {},
     "output_type": "execute_result"
    }
   ],
   "source": [
    "df_eafcs.head()"
   ]
  },
  {
   "cell_type": "markdown",
   "metadata": {},
   "source": [
    "Se muestra la informacion del dataframe"
   ]
  },
  {
   "cell_type": "code",
   "execution_count": 112,
   "metadata": {},
   "outputs": [
    {
     "name": "stdout",
     "output_type": "stream",
     "text": [
      "<class 'pandas.core.frame.DataFrame'>\n",
      "Index: 200 entries, 7 to 70288\n",
      "Data columns (total 7 columns):\n",
      " #   Column          Non-Null Count  Dtype  \n",
      "---  ------          --------------  -----  \n",
      " 0   Fuel Type Code  200 non-null    object \n",
      " 1   Station Name    200 non-null    object \n",
      " 2   Street Address  200 non-null    object \n",
      " 3   City            200 non-null    object \n",
      " 4   State           200 non-null    object \n",
      " 5   Latitude        200 non-null    float64\n",
      " 6   Longitude       200 non-null    float64\n",
      "dtypes: float64(2), object(5)\n",
      "memory usage: 12.5+ KB\n"
     ]
    }
   ],
   "source": [
    "df_eafcs.info()"
   ]
  },
  {
   "cell_type": "markdown",
   "metadata": {},
   "source": [
    "Buscan duplicados"
   ]
  },
  {
   "cell_type": "code",
   "execution_count": 113,
   "metadata": {},
   "outputs": [
    {
     "data": {
      "text/html": [
       "<div>\n",
       "<style scoped>\n",
       "    .dataframe tbody tr th:only-of-type {\n",
       "        vertical-align: middle;\n",
       "    }\n",
       "\n",
       "    .dataframe tbody tr th {\n",
       "        vertical-align: top;\n",
       "    }\n",
       "\n",
       "    .dataframe thead th {\n",
       "        text-align: right;\n",
       "    }\n",
       "</style>\n",
       "<table border=\"1\" class=\"dataframe\">\n",
       "  <thead>\n",
       "    <tr style=\"text-align: right;\">\n",
       "      <th></th>\n",
       "      <th>Fuel Type Code</th>\n",
       "      <th>Station Name</th>\n",
       "      <th>Street Address</th>\n",
       "      <th>City</th>\n",
       "      <th>State</th>\n",
       "      <th>Latitude</th>\n",
       "      <th>Longitude</th>\n",
       "    </tr>\n",
       "  </thead>\n",
       "  <tbody>\n",
       "    <tr>\n",
       "      <th>3422</th>\n",
       "      <td>ELEC</td>\n",
       "      <td>Bay Ridge Nissan</td>\n",
       "      <td>6501 5th Ave</td>\n",
       "      <td>Brooklyn</td>\n",
       "      <td>NY</td>\n",
       "      <td>40.636324</td>\n",
       "      <td>-74.019228</td>\n",
       "    </tr>\n",
       "    <tr>\n",
       "      <th>3424</th>\n",
       "      <td>ELEC</td>\n",
       "      <td>Kings Nissan</td>\n",
       "      <td>2758 Coney Island Ave</td>\n",
       "      <td>Brooklyn</td>\n",
       "      <td>NY</td>\n",
       "      <td>40.589167</td>\n",
       "      <td>-73.960707</td>\n",
       "    </tr>\n",
       "  </tbody>\n",
       "</table>\n",
       "</div>"
      ],
      "text/plain": [
       "     Fuel Type Code      Station Name         Street Address      City State  \\\n",
       "3422           ELEC  Bay Ridge Nissan           6501 5th Ave  Brooklyn    NY   \n",
       "3424           ELEC      Kings Nissan  2758 Coney Island Ave  Brooklyn    NY   \n",
       "\n",
       "       Latitude  Longitude  \n",
       "3422  40.636324 -74.019228  \n",
       "3424  40.589167 -73.960707  "
      ]
     },
     "execution_count": 113,
     "metadata": {},
     "output_type": "execute_result"
    }
   ],
   "source": [
    "df_eafcs_dup = df_eafcs[df_eafcs.duplicated()]\n",
    "df_eafcs_dup"
   ]
  },
  {
   "cell_type": "code",
   "execution_count": 114,
   "metadata": {},
   "outputs": [
    {
     "data": {
      "text/html": [
       "<div>\n",
       "<style scoped>\n",
       "    .dataframe tbody tr th:only-of-type {\n",
       "        vertical-align: middle;\n",
       "    }\n",
       "\n",
       "    .dataframe tbody tr th {\n",
       "        vertical-align: top;\n",
       "    }\n",
       "\n",
       "    .dataframe thead th {\n",
       "        text-align: right;\n",
       "    }\n",
       "</style>\n",
       "<table border=\"1\" class=\"dataframe\">\n",
       "  <thead>\n",
       "    <tr style=\"text-align: right;\">\n",
       "      <th></th>\n",
       "      <th>Fuel Type Code</th>\n",
       "      <th>Station Name</th>\n",
       "      <th>Street Address</th>\n",
       "      <th>City</th>\n",
       "      <th>State</th>\n",
       "      <th>Latitude</th>\n",
       "      <th>Longitude</th>\n",
       "    </tr>\n",
       "  </thead>\n",
       "  <tbody>\n",
       "    <tr>\n",
       "      <th>3421</th>\n",
       "      <td>ELEC</td>\n",
       "      <td>Bay Ridge Nissan</td>\n",
       "      <td>6501 5th Ave</td>\n",
       "      <td>Brooklyn</td>\n",
       "      <td>NY</td>\n",
       "      <td>40.636324</td>\n",
       "      <td>-74.019228</td>\n",
       "    </tr>\n",
       "    <tr>\n",
       "      <th>3422</th>\n",
       "      <td>ELEC</td>\n",
       "      <td>Bay Ridge Nissan</td>\n",
       "      <td>6501 5th Ave</td>\n",
       "      <td>Brooklyn</td>\n",
       "      <td>NY</td>\n",
       "      <td>40.636324</td>\n",
       "      <td>-74.019228</td>\n",
       "    </tr>\n",
       "  </tbody>\n",
       "</table>\n",
       "</div>"
      ],
      "text/plain": [
       "     Fuel Type Code      Station Name Street Address      City State  \\\n",
       "3421           ELEC  Bay Ridge Nissan   6501 5th Ave  Brooklyn    NY   \n",
       "3422           ELEC  Bay Ridge Nissan   6501 5th Ave  Brooklyn    NY   \n",
       "\n",
       "       Latitude  Longitude  \n",
       "3421  40.636324 -74.019228  \n",
       "3422  40.636324 -74.019228  "
      ]
     },
     "execution_count": 114,
     "metadata": {},
     "output_type": "execute_result"
    }
   ],
   "source": [
    "df_eafcs[(df_eafcs['Station Name'] == 'Bay Ridge Nissan')]"
   ]
  },
  {
   "cell_type": "markdown",
   "metadata": {},
   "source": [
    "Eliminación de Duplicados"
   ]
  },
  {
   "cell_type": "code",
   "execution_count": 115,
   "metadata": {},
   "outputs": [],
   "source": [
    "df_eafcs = df_eafcs.drop_duplicates(subset=['Station Name'], keep='last')"
   ]
  },
  {
   "cell_type": "markdown",
   "metadata": {},
   "source": [
    "Se buscan duplicados para verificar"
   ]
  },
  {
   "cell_type": "code",
   "execution_count": 116,
   "metadata": {},
   "outputs": [
    {
     "data": {
      "text/html": [
       "<div>\n",
       "<style scoped>\n",
       "    .dataframe tbody tr th:only-of-type {\n",
       "        vertical-align: middle;\n",
       "    }\n",
       "\n",
       "    .dataframe tbody tr th {\n",
       "        vertical-align: top;\n",
       "    }\n",
       "\n",
       "    .dataframe thead th {\n",
       "        text-align: right;\n",
       "    }\n",
       "</style>\n",
       "<table border=\"1\" class=\"dataframe\">\n",
       "  <thead>\n",
       "    <tr style=\"text-align: right;\">\n",
       "      <th></th>\n",
       "      <th>Fuel Type Code</th>\n",
       "      <th>Station Name</th>\n",
       "      <th>Street Address</th>\n",
       "      <th>City</th>\n",
       "      <th>State</th>\n",
       "      <th>Latitude</th>\n",
       "      <th>Longitude</th>\n",
       "    </tr>\n",
       "  </thead>\n",
       "  <tbody>\n",
       "  </tbody>\n",
       "</table>\n",
       "</div>"
      ],
      "text/plain": [
       "Empty DataFrame\n",
       "Columns: [Fuel Type Code, Station Name, Street Address, City, State, Latitude, Longitude]\n",
       "Index: []"
      ]
     },
     "execution_count": 116,
     "metadata": {},
     "output_type": "execute_result"
    }
   ],
   "source": [
    "df_eafcs_dup = df_eafcs[df_eafcs.duplicated()]\n",
    "df_eafcs_dup"
   ]
  },
  {
   "cell_type": "markdown",
   "metadata": {},
   "source": [
    "Seteo el indice y muestro el dataframe"
   ]
  },
  {
   "cell_type": "code",
   "execution_count": 117,
   "metadata": {},
   "outputs": [],
   "source": [
    "# Seteo el indice\n",
    "df_eafcs.reset_index(drop=True, inplace=True)"
   ]
  },
  {
   "cell_type": "code",
   "execution_count": 118,
   "metadata": {},
   "outputs": [
    {
     "data": {
      "text/html": [
       "<div>\n",
       "<style scoped>\n",
       "    .dataframe tbody tr th:only-of-type {\n",
       "        vertical-align: middle;\n",
       "    }\n",
       "\n",
       "    .dataframe tbody tr th {\n",
       "        vertical-align: top;\n",
       "    }\n",
       "\n",
       "    .dataframe thead th {\n",
       "        text-align: right;\n",
       "    }\n",
       "</style>\n",
       "<table border=\"1\" class=\"dataframe\">\n",
       "  <thead>\n",
       "    <tr style=\"text-align: right;\">\n",
       "      <th></th>\n",
       "      <th>Fuel Type Code</th>\n",
       "      <th>Station Name</th>\n",
       "      <th>Street Address</th>\n",
       "      <th>City</th>\n",
       "      <th>State</th>\n",
       "      <th>Latitude</th>\n",
       "      <th>Longitude</th>\n",
       "    </tr>\n",
       "  </thead>\n",
       "  <tbody>\n",
       "    <tr>\n",
       "      <th>0</th>\n",
       "      <td>CNG</td>\n",
       "      <td>Clean Energy - Greenpoint - National Grid</td>\n",
       "      <td>287 Maspeth Ave</td>\n",
       "      <td>Brooklyn</td>\n",
       "      <td>NY</td>\n",
       "      <td>40.718037</td>\n",
       "      <td>-73.932309</td>\n",
       "    </tr>\n",
       "    <tr>\n",
       "      <th>1</th>\n",
       "      <td>CNG</td>\n",
       "      <td>Con Edison - Van Nest Service Center</td>\n",
       "      <td>1615 Bronxdale Ave</td>\n",
       "      <td>Bronx</td>\n",
       "      <td>NY</td>\n",
       "      <td>40.844188</td>\n",
       "      <td>-73.861572</td>\n",
       "    </tr>\n",
       "    <tr>\n",
       "      <th>2</th>\n",
       "      <td>CNG</td>\n",
       "      <td>Con Edison - College Point Service Center</td>\n",
       "      <td>124-15 31st Ave</td>\n",
       "      <td>Queens</td>\n",
       "      <td>NY</td>\n",
       "      <td>40.769623</td>\n",
       "      <td>-73.843069</td>\n",
       "    </tr>\n",
       "    <tr>\n",
       "      <th>3</th>\n",
       "      <td>CNG</td>\n",
       "      <td>Bronx Zoo</td>\n",
       "      <td>2300 Southern Blvd</td>\n",
       "      <td>Bronx</td>\n",
       "      <td>NY</td>\n",
       "      <td>40.850018</td>\n",
       "      <td>-73.878128</td>\n",
       "    </tr>\n",
       "    <tr>\n",
       "      <th>4</th>\n",
       "      <td>CNG</td>\n",
       "      <td>Trillium - MTA New York City Transit - West Fa...</td>\n",
       "      <td>1100 E 177th St</td>\n",
       "      <td>Bronx</td>\n",
       "      <td>NY</td>\n",
       "      <td>40.838672</td>\n",
       "      <td>-73.877566</td>\n",
       "    </tr>\n",
       "    <tr>\n",
       "      <th>5</th>\n",
       "      <td>CNG</td>\n",
       "      <td>Trillium - MTA - Spring Creek</td>\n",
       "      <td>12755 Flatlands Ave</td>\n",
       "      <td>Brooklyn</td>\n",
       "      <td>NY</td>\n",
       "      <td>40.661038</td>\n",
       "      <td>-73.864438</td>\n",
       "    </tr>\n",
       "    <tr>\n",
       "      <th>6</th>\n",
       "      <td>CNG</td>\n",
       "      <td>Trillium - MTA New York City Transit - Jackie ...</td>\n",
       "      <td>871 5th Ave</td>\n",
       "      <td>Brooklyn</td>\n",
       "      <td>NY</td>\n",
       "      <td>40.652900</td>\n",
       "      <td>-74.002300</td>\n",
       "    </tr>\n",
       "    <tr>\n",
       "      <th>7</th>\n",
       "      <td>CNG</td>\n",
       "      <td>Manhattan Beer</td>\n",
       "      <td>955 E 149th St</td>\n",
       "      <td>Bronx</td>\n",
       "      <td>NY</td>\n",
       "      <td>40.808151</td>\n",
       "      <td>-73.902589</td>\n",
       "    </tr>\n",
       "    <tr>\n",
       "      <th>8</th>\n",
       "      <td>ELEC</td>\n",
       "      <td>James J Peters VA Medical Center</td>\n",
       "      <td>130 W Kingsbridge Rd</td>\n",
       "      <td>Bronx</td>\n",
       "      <td>NY</td>\n",
       "      <td>40.867403</td>\n",
       "      <td>-73.906405</td>\n",
       "    </tr>\n",
       "    <tr>\n",
       "      <th>9</th>\n",
       "      <td>ELEC</td>\n",
       "      <td>Bay Ridge Nissan</td>\n",
       "      <td>6501 5th Ave</td>\n",
       "      <td>Brooklyn</td>\n",
       "      <td>NY</td>\n",
       "      <td>40.636324</td>\n",
       "      <td>-74.019228</td>\n",
       "    </tr>\n",
       "    <tr>\n",
       "      <th>10</th>\n",
       "      <td>ELEC</td>\n",
       "      <td>Kings Nissan</td>\n",
       "      <td>2758 Coney Island Ave</td>\n",
       "      <td>Brooklyn</td>\n",
       "      <td>NY</td>\n",
       "      <td>40.589167</td>\n",
       "      <td>-73.960707</td>\n",
       "    </tr>\n",
       "    <tr>\n",
       "      <th>11</th>\n",
       "      <td>E85</td>\n",
       "      <td>JFK Airport Travel Plaza - National Grid - Cle...</td>\n",
       "      <td>150th Ave &amp; 147th St</td>\n",
       "      <td>Queens</td>\n",
       "      <td>NY</td>\n",
       "      <td>40.662979</td>\n",
       "      <td>-73.792158</td>\n",
       "    </tr>\n",
       "    <tr>\n",
       "      <th>12</th>\n",
       "      <td>ELEC</td>\n",
       "      <td>Dana Ford Lincoln</td>\n",
       "      <td>266 W Service Rd</td>\n",
       "      <td>Staten Island</td>\n",
       "      <td>NY</td>\n",
       "      <td>40.587162</td>\n",
       "      <td>-74.194747</td>\n",
       "    </tr>\n",
       "    <tr>\n",
       "      <th>13</th>\n",
       "      <td>ELEC</td>\n",
       "      <td>Bay Ridge Municipal Parking Garage</td>\n",
       "      <td>8501 5th Ave</td>\n",
       "      <td>Brooklyn</td>\n",
       "      <td>NY</td>\n",
       "      <td>40.622150</td>\n",
       "      <td>-74.025650</td>\n",
       "    </tr>\n",
       "    <tr>\n",
       "      <th>14</th>\n",
       "      <td>ELEC</td>\n",
       "      <td>Court Square Municipal Parking Garage</td>\n",
       "      <td>45 Court Square</td>\n",
       "      <td>Queens</td>\n",
       "      <td>NY</td>\n",
       "      <td>40.745358</td>\n",
       "      <td>-73.942642</td>\n",
       "    </tr>\n",
       "  </tbody>\n",
       "</table>\n",
       "</div>"
      ],
      "text/plain": [
       "   Fuel Type Code                                       Station Name  \\\n",
       "0             CNG          Clean Energy - Greenpoint - National Grid   \n",
       "1             CNG               Con Edison - Van Nest Service Center   \n",
       "2             CNG          Con Edison - College Point Service Center   \n",
       "3             CNG                                          Bronx Zoo   \n",
       "4             CNG  Trillium - MTA New York City Transit - West Fa...   \n",
       "5             CNG                      Trillium - MTA - Spring Creek   \n",
       "6             CNG  Trillium - MTA New York City Transit - Jackie ...   \n",
       "7             CNG                                     Manhattan Beer   \n",
       "8            ELEC                   James J Peters VA Medical Center   \n",
       "9            ELEC                                   Bay Ridge Nissan   \n",
       "10           ELEC                                       Kings Nissan   \n",
       "11            E85  JFK Airport Travel Plaza - National Grid - Cle...   \n",
       "12           ELEC                                  Dana Ford Lincoln   \n",
       "13           ELEC                 Bay Ridge Municipal Parking Garage   \n",
       "14           ELEC              Court Square Municipal Parking Garage   \n",
       "\n",
       "           Street Address           City State   Latitude  Longitude  \n",
       "0         287 Maspeth Ave       Brooklyn    NY  40.718037 -73.932309  \n",
       "1      1615 Bronxdale Ave          Bronx    NY  40.844188 -73.861572  \n",
       "2         124-15 31st Ave         Queens    NY  40.769623 -73.843069  \n",
       "3      2300 Southern Blvd          Bronx    NY  40.850018 -73.878128  \n",
       "4         1100 E 177th St          Bronx    NY  40.838672 -73.877566  \n",
       "5     12755 Flatlands Ave       Brooklyn    NY  40.661038 -73.864438  \n",
       "6             871 5th Ave       Brooklyn    NY  40.652900 -74.002300  \n",
       "7          955 E 149th St          Bronx    NY  40.808151 -73.902589  \n",
       "8    130 W Kingsbridge Rd          Bronx    NY  40.867403 -73.906405  \n",
       "9            6501 5th Ave       Brooklyn    NY  40.636324 -74.019228  \n",
       "10  2758 Coney Island Ave       Brooklyn    NY  40.589167 -73.960707  \n",
       "11   150th Ave & 147th St         Queens    NY  40.662979 -73.792158  \n",
       "12       266 W Service Rd  Staten Island    NY  40.587162 -74.194747  \n",
       "13           8501 5th Ave       Brooklyn    NY  40.622150 -74.025650  \n",
       "14        45 Court Square         Queens    NY  40.745358 -73.942642  "
      ]
     },
     "execution_count": 118,
     "metadata": {},
     "output_type": "execute_result"
    }
   ],
   "source": [
    "df_eafcs.head(15)"
   ]
  },
  {
   "cell_type": "markdown",
   "metadata": {},
   "source": [
    "Guardar el dataframe en formato parquet"
   ]
  },
  {
   "cell_type": "code",
   "execution_count": 119,
   "metadata": {},
   "outputs": [],
   "source": [
    "df_eafcs.to_parquet('Data/df_eafcs.parquet', index=False)"
   ]
  },
  {
   "cell_type": "markdown",
   "metadata": {},
   "source": [
    "Cantidad de estaciones por Ciudad o Borough"
   ]
  },
  {
   "cell_type": "code",
   "execution_count": 120,
   "metadata": {},
   "outputs": [
    {
     "name": "stdout",
     "output_type": "stream",
     "text": [
      "City\n",
      "Brooklyn         99\n",
      "Bronx            29\n",
      "Queens           21\n",
      "Manhattan        21\n",
      "Staten Island    18\n",
      "Name: count, dtype: int64\n"
     ]
    }
   ],
   "source": [
    "df_eafcs1 = df_eafcs['City'].value_counts()\n",
    "print(df_eafcs1)"
   ]
  },
  {
   "cell_type": "markdown",
   "metadata": {},
   "source": [
    "Gráfico de Estaciones por Ciudad"
   ]
  },
  {
   "cell_type": "code",
   "execution_count": 121,
   "metadata": {},
   "outputs": [
    {
     "data": {
      "image/png": "[encoded data removed]",
      "text/plain": [
       "<Figure size 1000x600 with 1 Axes>"
      ]
     },
     "metadata": {},
     "output_type": "display_data"
    }
   ],
   "source": [
    "# Crear el gráfico de barras\n",
    "plt.figure(figsize=(10, 6))\n",
    "df_eafcs1.plot(kind='bar', color='skyblue')\n",
    "\n",
    "# Añadir títulos y etiquetas\n",
    "plt.title('Cantidad de Estaciones por Ciudad')\n",
    "plt.xlabel('Ciudad')\n",
    "plt.ylabel('Cantidad de Estaciones')\n",
    "\n",
    "# Mostrar el gráfico\n",
    "plt.xticks(rotation=45)  # Rotar etiquetas del eje x para mejor legibilidad\n",
    "plt.tight_layout()       # Ajustar diseño para que no se corten las etiquetas\n",
    "\n",
    "plt.show()"
   ]
  },
  {
   "cell_type": "markdown",
   "metadata": {},
   "source": [
    "Cantidad de estaciones por tipo de combustible"
   ]
  },
  {
   "cell_type": "code",
   "execution_count": 122,
   "metadata": {},
   "outputs": [
    {
     "name": "stdout",
     "output_type": "stream",
     "text": [
      "Fuel Type Code\n",
      "ELEC    175\n",
      "CNG      10\n",
      "E85       3\n",
      "Name: count, dtype: int64\n"
     ]
    }
   ],
   "source": [
    "df_eafcs2 = df_eafcs['Fuel Type Code'].value_counts()\n",
    "print(df_eafcs2)"
   ]
  },
  {
   "cell_type": "markdown",
   "metadata": {},
   "source": [
    "Gráfico de Estaciones por tipo de combustible"
   ]
  },
  {
   "cell_type": "code",
   "execution_count": 126,
   "metadata": {},
   "outputs": [
    {
     "data": {
      "image/png": "[encoded data removed]",
      "text/plain": [
       "<Figure size 1000x600 with 1 Axes>"
      ]
     },
     "metadata": {},
     "output_type": "display_data"
    }
   ],
   "source": [
    "# Crear el gráfico de barras\n",
    "plt.figure(figsize=(10, 6))\n",
    "df_eafcs2.plot(kind='bar', color='skyblue')\n",
    "\n",
    "# Añadir títulos y etiquetas\n",
    "plt.title('Cantidad de Estaciones por Tipo de Combustible')\n",
    "plt.xlabel('Tipo de Combustible')\n",
    "plt.ylabel('Cantidad de Estaciones')\n",
    "\n",
    "# Mostrar el gráfico\n",
    "plt.xticks(rotation=45)  # Rotar etiquetas del eje x para mejor legibilidad\n",
    "plt.tight_layout()       # Ajustar diseño para que no se corten las etiquetas\n",
    "\n",
    "plt.show()"
   ]
  },
  {
   "cell_type": "markdown",
   "metadata": {},
   "source": [
    "Calculo de Estaciones por Ciudad y TIpo de Combustible"
   ]
  },
  {
   "cell_type": "code",
   "execution_count": 175,
   "metadata": {},
   "outputs": [
    {
     "name": "stdout",
     "output_type": "stream",
     "text": [
      "Unique Entries DataFrame:\n"
     ]
    },
    {
     "data": {
      "text/html": [
       "<div>\n",
       "<style scoped>\n",
       "    .dataframe tbody tr th:only-of-type {\n",
       "        vertical-align: middle;\n",
       "    }\n",
       "\n",
       "    .dataframe tbody tr th {\n",
       "        vertical-align: top;\n",
       "    }\n",
       "\n",
       "    .dataframe thead th {\n",
       "        text-align: right;\n",
       "    }\n",
       "</style>\n",
       "<table border=\"1\" class=\"dataframe\">\n",
       "  <thead>\n",
       "    <tr style=\"text-align: right;\">\n",
       "      <th></th>\n",
       "      <th>City</th>\n",
       "      <th>Fuel Type Code</th>\n",
       "      <th>Value</th>\n",
       "    </tr>\n",
       "  </thead>\n",
       "  <tbody>\n",
       "    <tr>\n",
       "      <th>1</th>\n",
       "      <td>Bronx</td>\n",
       "      <td>CNG</td>\n",
       "      <td>6</td>\n",
       "    </tr>\n",
       "    <tr>\n",
       "      <th>8</th>\n",
       "      <td>Bronx</td>\n",
       "      <td>ELEC</td>\n",
       "      <td>23</td>\n",
       "    </tr>\n",
       "    <tr>\n",
       "      <th>0</th>\n",
       "      <td>Brooklyn</td>\n",
       "      <td>CNG</td>\n",
       "      <td>3</td>\n",
       "    </tr>\n",
       "    <tr>\n",
       "      <th>9</th>\n",
       "      <td>Brooklyn</td>\n",
       "      <td>ELEC</td>\n",
       "      <td>95</td>\n",
       "    </tr>\n",
       "    <tr>\n",
       "      <th>18</th>\n",
       "      <td>Brooklyn</td>\n",
       "      <td>E85</td>\n",
       "      <td>1</td>\n",
       "    </tr>\n",
       "    <tr>\n",
       "      <th>22</th>\n",
       "      <td>Manhattan</td>\n",
       "      <td>ELEC</td>\n",
       "      <td>21</td>\n",
       "    </tr>\n",
       "    <tr>\n",
       "      <th>2</th>\n",
       "      <td>Queens</td>\n",
       "      <td>CNG</td>\n",
       "      <td>1</td>\n",
       "    </tr>\n",
       "    <tr>\n",
       "      <th>11</th>\n",
       "      <td>Queens</td>\n",
       "      <td>E85</td>\n",
       "      <td>1</td>\n",
       "    </tr>\n",
       "    <tr>\n",
       "      <th>14</th>\n",
       "      <td>Queens</td>\n",
       "      <td>ELEC</td>\n",
       "      <td>19</td>\n",
       "    </tr>\n",
       "    <tr>\n",
       "      <th>12</th>\n",
       "      <td>Staten Island</td>\n",
       "      <td>ELEC</td>\n",
       "      <td>17</td>\n",
       "    </tr>\n",
       "    <tr>\n",
       "      <th>156</th>\n",
       "      <td>Staten Island</td>\n",
       "      <td>E85</td>\n",
       "      <td>1</td>\n",
       "    </tr>\n",
       "  </tbody>\n",
       "</table>\n",
       "</div>"
      ],
      "text/plain": [
       "              City Fuel Type Code  Value\n",
       "1            Bronx            CNG      6\n",
       "8            Bronx           ELEC     23\n",
       "0         Brooklyn            CNG      3\n",
       "9         Brooklyn           ELEC     95\n",
       "18        Brooklyn            E85      1\n",
       "22       Manhattan           ELEC     21\n",
       "2           Queens            CNG      1\n",
       "11          Queens            E85      1\n",
       "14          Queens           ELEC     19\n",
       "12   Staten Island           ELEC     17\n",
       "156  Staten Island            E85      1"
      ]
     },
     "execution_count": 175,
     "metadata": {},
     "output_type": "execute_result"
    }
   ],
   "source": [
    "# Contar la cantidad de combinaciones únicas de 'City' y 'Fuel Type Code'\n",
    "combination_counts = df_eafcs.groupby(['City', 'Fuel Type Code']).size().reset_index(name='Value')\n",
    "\n",
    "# Crear una copia del dataframe\n",
    "df_eafcs_clean = df_eafcs.copy()\n",
    "\n",
    "# Unir estos conteos con el DataFrame original\n",
    "df_eafcs_merged = df_eafcs_clean.merge(combination_counts, on=['City', 'Fuel Type Code'], suffixes=('', '_count'))\n",
    "\n",
    "# Obtener dataframe sin duplicados\n",
    "unique_entries = df_eafcs_merged[['City', 'Fuel Type Code', 'Value']].drop_duplicates().sort_values(by='City')\n",
    "\n",
    "# Mostrar Dataframe\n",
    "unique_entries"
   ]
  },
  {
   "cell_type": "markdown",
   "metadata": {},
   "source": [
    "Gráfico de Estaciones por Tipo de Combustible y Ciudad"
   ]
  },
  {
   "cell_type": "code",
   "execution_count": 177,
   "metadata": {},
   "outputs": [
    {
     "data": {
      "image/png": "[encoded data removed]",
      "text/plain": [
       "<Figure size 1200x600 with 1 Axes>"
      ]
     },
     "metadata": {},
     "output_type": "display_data"
    }
   ],
   "source": [
    "#Gráfico de barras Seaborn\n",
    "plt.figure(figsize=(12, 6))\n",
    "sns.barplot(data=unique_entries,x='City', y='Value', hue='Fuel Type Code')\n",
    "plt.xlabel('City')\n",
    "plt.ylabel('Estaciones')\n",
    "plt.title('Estaciones totales por Ciudad y Tipo de Combustible')\n",
    "plt.xticks(rotation=75)\n",
    "plt.legend(title='Tipos de Combustible');"
   ]
  },
  {
   "cell_type": "code",
   "execution_count": null,
   "metadata": {},
   "outputs": [],
   "source": []
  }
 ],
 "metadata": {
  "kernelspec": {
   "display_name": "Python 3",
   "language": "python",
   "name": "python3"
  },
  "language_info": {
   "codemirror_mode": {
    "name": "ipython",
    "version": 3
   },
   "file_extension": ".py",
   "mimetype": "text/x-python",
   "name": "python",
   "nbconvert_exporter": "python",
   "pygments_lexer": "ipython3",
   "version": "3.10.10"
  }
 },
 "nbformat": 4,
 "nbformat_minor": 2
}
